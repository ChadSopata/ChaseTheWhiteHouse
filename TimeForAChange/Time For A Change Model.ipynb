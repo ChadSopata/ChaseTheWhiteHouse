{
 "cells": [
  {
   "cell_type": "markdown",
   "metadata": {},
   "source": [
    "### Time for a Change Model- Abramowitz"
   ]
  },
  {
   "cell_type": "code",
   "execution_count": 1,
   "metadata": {},
   "outputs": [],
   "source": [
    "import pandas as pd\n",
    "import os\n",
    "import numpy as np"
   ]
  },
  {
   "cell_type": "markdown",
   "metadata": {},
   "source": [
    "### Vote equation\n",
    "The model’s vote equation reads as:\n",
    "\n",
    "V = A + 0.108 NETAPP + 0.543 Q2GDP + 4.313 TERM1INC"
   ]
  },
  {
   "cell_type": "markdown",
   "metadata": {},
   "source": [
    "### Variable description\n",
    "\n",
    "Static Variables for 2016\n",
    "\n",
    "N = NETAPP\tIncumbent president’s net approval rating (approval-dis-approval) in the final Gallup Poll in June\n",
    "\n",
    "G = Q2GDP\tAnnualized growth rate of real GDP in the second quarter of the election year\t1.2\n",
    "\n",
    "T = TERM1INC\tPresence (1) or absence (0) of a first-term incumbent in the race\t0\n",
    "\n",
    "A = CONSTANT for 2016\n",
    "\n",
    "V = Incumbent share of the two-party presidential vote\t 48.6"
   ]
  },
  {
   "cell_type": "markdown",
   "metadata": {},
   "source": [
    "#### Pulling data from 1948 to 2016"
   ]
  },
  {
   "cell_type": "code",
   "execution_count": 3,
   "metadata": {},
   "outputs": [],
   "source": [
    "TFC_df=pd.read_csv('TimeForAChange.csv')"
   ]
  },
  {
   "cell_type": "code",
   "execution_count": 4,
   "metadata": {},
   "outputs": [
    {
     "data": {
      "text/html": [
       "<div>\n",
       "<style scoped>\n",
       "    .dataframe tbody tr th:only-of-type {\n",
       "        vertical-align: middle;\n",
       "    }\n",
       "\n",
       "    .dataframe tbody tr th {\n",
       "        vertical-align: top;\n",
       "    }\n",
       "\n",
       "    .dataframe thead th {\n",
       "        text-align: right;\n",
       "    }\n",
       "</style>\n",
       "<table border=\"1\" class=\"dataframe\">\n",
       "  <thead>\n",
       "    <tr style=\"text-align: right;\">\n",
       "      <th></th>\n",
       "      <th>Year</th>\n",
       "      <th>Q1GDP</th>\n",
       "      <th>Q2GDP</th>\n",
       "      <th>June Net Approval</th>\n",
       "      <th>Incumbent Present</th>\n",
       "      <th>Incumbent 2+ Terms</th>\n",
       "      <th>Polarization</th>\n",
       "      <th>Incumbent Party Vote Share</th>\n",
       "      <th>Incumbent Party Win</th>\n",
       "    </tr>\n",
       "  </thead>\n",
       "  <tbody>\n",
       "    <tr>\n",
       "      <th>0</th>\n",
       "      <td>2016</td>\n",
       "      <td>NaN</td>\n",
       "      <td>1.2</td>\n",
       "      <td>6.0</td>\n",
       "      <td>0</td>\n",
       "      <td>1</td>\n",
       "      <td>1</td>\n",
       "      <td>51.1</td>\n",
       "      <td>0</td>\n",
       "    </tr>\n",
       "    <tr>\n",
       "      <th>1</th>\n",
       "      <td>2012</td>\n",
       "      <td>2.0</td>\n",
       "      <td>1.3</td>\n",
       "      <td>-0.8</td>\n",
       "      <td>1</td>\n",
       "      <td>0</td>\n",
       "      <td>1</td>\n",
       "      <td>52.0</td>\n",
       "      <td>1</td>\n",
       "    </tr>\n",
       "    <tr>\n",
       "      <th>2</th>\n",
       "      <td>2008</td>\n",
       "      <td>-1.8</td>\n",
       "      <td>3.3</td>\n",
       "      <td>-30.0</td>\n",
       "      <td>0</td>\n",
       "      <td>1</td>\n",
       "      <td>-1</td>\n",
       "      <td>46.3</td>\n",
       "      <td>0</td>\n",
       "    </tr>\n",
       "    <tr>\n",
       "      <th>3</th>\n",
       "      <td>2004</td>\n",
       "      <td>2.7</td>\n",
       "      <td>2.6</td>\n",
       "      <td>-0.5</td>\n",
       "      <td>1</td>\n",
       "      <td>0</td>\n",
       "      <td>1</td>\n",
       "      <td>51.2</td>\n",
       "      <td>1</td>\n",
       "    </tr>\n",
       "    <tr>\n",
       "      <th>4</th>\n",
       "      <td>2000</td>\n",
       "      <td>1.1</td>\n",
       "      <td>8.0</td>\n",
       "      <td>19.5</td>\n",
       "      <td>0</td>\n",
       "      <td>1</td>\n",
       "      <td>1</td>\n",
       "      <td>50.3</td>\n",
       "      <td>0</td>\n",
       "    </tr>\n",
       "    <tr>\n",
       "      <th>5</th>\n",
       "      <td>1996</td>\n",
       "      <td>2.8</td>\n",
       "      <td>7.1</td>\n",
       "      <td>15.5</td>\n",
       "      <td>1</td>\n",
       "      <td>0</td>\n",
       "      <td>1</td>\n",
       "      <td>54.7</td>\n",
       "      <td>1</td>\n",
       "    </tr>\n",
       "    <tr>\n",
       "      <th>6</th>\n",
       "      <td>1992</td>\n",
       "      <td>4.5</td>\n",
       "      <td>4.3</td>\n",
       "      <td>-18.0</td>\n",
       "      <td>1</td>\n",
       "      <td>1</td>\n",
       "      <td>0</td>\n",
       "      <td>46.5</td>\n",
       "      <td>0</td>\n",
       "    </tr>\n",
       "    <tr>\n",
       "      <th>7</th>\n",
       "      <td>1988</td>\n",
       "      <td>2.1</td>\n",
       "      <td>5.2</td>\n",
       "      <td>10.0</td>\n",
       "      <td>0</td>\n",
       "      <td>1</td>\n",
       "      <td>0</td>\n",
       "      <td>53.9</td>\n",
       "      <td>1</td>\n",
       "    </tr>\n",
       "    <tr>\n",
       "      <th>8</th>\n",
       "      <td>1984</td>\n",
       "      <td>8.0</td>\n",
       "      <td>7.1</td>\n",
       "      <td>20.0</td>\n",
       "      <td>1</td>\n",
       "      <td>0</td>\n",
       "      <td>0</td>\n",
       "      <td>59.2</td>\n",
       "      <td>1</td>\n",
       "    </tr>\n",
       "    <tr>\n",
       "      <th>9</th>\n",
       "      <td>1980</td>\n",
       "      <td>1.3</td>\n",
       "      <td>-7.9</td>\n",
       "      <td>-21.7</td>\n",
       "      <td>1</td>\n",
       "      <td>0</td>\n",
       "      <td>0</td>\n",
       "      <td>44.7</td>\n",
       "      <td>0</td>\n",
       "    </tr>\n",
       "    <tr>\n",
       "      <th>10</th>\n",
       "      <td>1976</td>\n",
       "      <td>9.4</td>\n",
       "      <td>3.0</td>\n",
       "      <td>5.0</td>\n",
       "      <td>0</td>\n",
       "      <td>1</td>\n",
       "      <td>0</td>\n",
       "      <td>48.9</td>\n",
       "      <td>0</td>\n",
       "    </tr>\n",
       "    <tr>\n",
       "      <th>11</th>\n",
       "      <td>1972</td>\n",
       "      <td>7.3</td>\n",
       "      <td>9.8</td>\n",
       "      <td>26.0</td>\n",
       "      <td>1</td>\n",
       "      <td>0</td>\n",
       "      <td>0</td>\n",
       "      <td>61.8</td>\n",
       "      <td>1</td>\n",
       "    </tr>\n",
       "    <tr>\n",
       "      <th>12</th>\n",
       "      <td>1968</td>\n",
       "      <td>8.5</td>\n",
       "      <td>7.0</td>\n",
       "      <td>-5.0</td>\n",
       "      <td>0</td>\n",
       "      <td>1</td>\n",
       "      <td>0</td>\n",
       "      <td>49.6</td>\n",
       "      <td>0</td>\n",
       "    </tr>\n",
       "    <tr>\n",
       "      <th>13</th>\n",
       "      <td>1964</td>\n",
       "      <td>9.3</td>\n",
       "      <td>4.7</td>\n",
       "      <td>60.3</td>\n",
       "      <td>1</td>\n",
       "      <td>0</td>\n",
       "      <td>0</td>\n",
       "      <td>61.3</td>\n",
       "      <td>1</td>\n",
       "    </tr>\n",
       "    <tr>\n",
       "      <th>14</th>\n",
       "      <td>1960</td>\n",
       "      <td>9.3</td>\n",
       "      <td>-1.9</td>\n",
       "      <td>37.0</td>\n",
       "      <td>0</td>\n",
       "      <td>1</td>\n",
       "      <td>0</td>\n",
       "      <td>49.9</td>\n",
       "      <td>0</td>\n",
       "    </tr>\n",
       "    <tr>\n",
       "      <th>15</th>\n",
       "      <td>1956</td>\n",
       "      <td>-1.8</td>\n",
       "      <td>3.2</td>\n",
       "      <td>53.5</td>\n",
       "      <td>1</td>\n",
       "      <td>0</td>\n",
       "      <td>0</td>\n",
       "      <td>57.8</td>\n",
       "      <td>1</td>\n",
       "    </tr>\n",
       "    <tr>\n",
       "      <th>16</th>\n",
       "      <td>1952</td>\n",
       "      <td>4.1</td>\n",
       "      <td>0.4</td>\n",
       "      <td>-27.0</td>\n",
       "      <td>0</td>\n",
       "      <td>1</td>\n",
       "      <td>0</td>\n",
       "      <td>44.5</td>\n",
       "      <td>0</td>\n",
       "    </tr>\n",
       "    <tr>\n",
       "      <th>17</th>\n",
       "      <td>1948</td>\n",
       "      <td>6.5</td>\n",
       "      <td>7.5</td>\n",
       "      <td>-6.0</td>\n",
       "      <td>1</td>\n",
       "      <td>1</td>\n",
       "      <td>0</td>\n",
       "      <td>52.4</td>\n",
       "      <td>1</td>\n",
       "    </tr>\n",
       "  </tbody>\n",
       "</table>\n",
       "</div>"
      ],
      "text/plain": [
       "    Year  Q1GDP  Q2GDP  June Net Approval  Incumbent Present  \\\n",
       "0   2016    NaN    1.2                6.0                  0   \n",
       "1   2012    2.0    1.3               -0.8                  1   \n",
       "2   2008   -1.8    3.3              -30.0                  0   \n",
       "3   2004    2.7    2.6               -0.5                  1   \n",
       "4   2000    1.1    8.0               19.5                  0   \n",
       "5   1996    2.8    7.1               15.5                  1   \n",
       "6   1992    4.5    4.3              -18.0                  1   \n",
       "7   1988    2.1    5.2               10.0                  0   \n",
       "8   1984    8.0    7.1               20.0                  1   \n",
       "9   1980    1.3   -7.9              -21.7                  1   \n",
       "10  1976    9.4    3.0                5.0                  0   \n",
       "11  1972    7.3    9.8               26.0                  1   \n",
       "12  1968    8.5    7.0               -5.0                  0   \n",
       "13  1964    9.3    4.7               60.3                  1   \n",
       "14  1960    9.3   -1.9               37.0                  0   \n",
       "15  1956   -1.8    3.2               53.5                  1   \n",
       "16  1952    4.1    0.4              -27.0                  0   \n",
       "17  1948    6.5    7.5               -6.0                  1   \n",
       "\n",
       "    Incumbent 2+ Terms  Polarization  Incumbent Party Vote Share  \\\n",
       "0                    1             1                        51.1   \n",
       "1                    0             1                        52.0   \n",
       "2                    1            -1                        46.3   \n",
       "3                    0             1                        51.2   \n",
       "4                    1             1                        50.3   \n",
       "5                    0             1                        54.7   \n",
       "6                    1             0                        46.5   \n",
       "7                    1             0                        53.9   \n",
       "8                    0             0                        59.2   \n",
       "9                    0             0                        44.7   \n",
       "10                   1             0                        48.9   \n",
       "11                   0             0                        61.8   \n",
       "12                   1             0                        49.6   \n",
       "13                   0             0                        61.3   \n",
       "14                   1             0                        49.9   \n",
       "15                   0             0                        57.8   \n",
       "16                   1             0                        44.5   \n",
       "17                   1             0                        52.4   \n",
       "\n",
       "    Incumbent Party Win  \n",
       "0                     0  \n",
       "1                     1  \n",
       "2                     0  \n",
       "3                     1  \n",
       "4                     0  \n",
       "5                     1  \n",
       "6                     0  \n",
       "7                     1  \n",
       "8                     1  \n",
       "9                     0  \n",
       "10                    0  \n",
       "11                    1  \n",
       "12                    0  \n",
       "13                    1  \n",
       "14                    0  \n",
       "15                    1  \n",
       "16                    0  \n",
       "17                    1  "
      ]
     },
     "execution_count": 4,
     "metadata": {},
     "output_type": "execute_result"
    }
   ],
   "source": [
    "TFC_df"
   ]
  },
  {
   "cell_type": "code",
   "execution_count": 5,
   "metadata": {},
   "outputs": [],
   "source": [
    "TFC_df = TFC_df.rename({'June Net Approval':'JNA','Incumbent Present':'IP1',\n",
    "                                'Incumbent 2+ Terms':'I2T', 'Polarization':'P',\n",
    "                                'Incumbent Party Vote Share':'INCVS'}, axis=1)\n"
   ]
  },
  {
   "cell_type": "code",
   "execution_count": 6,
   "metadata": {},
   "outputs": [
    {
     "data": {
      "text/html": [
       "<div>\n",
       "<style scoped>\n",
       "    .dataframe tbody tr th:only-of-type {\n",
       "        vertical-align: middle;\n",
       "    }\n",
       "\n",
       "    .dataframe tbody tr th {\n",
       "        vertical-align: top;\n",
       "    }\n",
       "\n",
       "    .dataframe thead th {\n",
       "        text-align: right;\n",
       "    }\n",
       "</style>\n",
       "<table border=\"1\" class=\"dataframe\">\n",
       "  <thead>\n",
       "    <tr style=\"text-align: right;\">\n",
       "      <th></th>\n",
       "      <th>Year</th>\n",
       "      <th>Q1GDP</th>\n",
       "      <th>Q2GDP</th>\n",
       "      <th>JNA</th>\n",
       "      <th>IP1</th>\n",
       "      <th>I2T</th>\n",
       "      <th>P</th>\n",
       "      <th>INCVS</th>\n",
       "      <th>Incumbent Party Win</th>\n",
       "    </tr>\n",
       "  </thead>\n",
       "  <tbody>\n",
       "    <tr>\n",
       "      <th>3</th>\n",
       "      <td>2004</td>\n",
       "      <td>2.7</td>\n",
       "      <td>2.6</td>\n",
       "      <td>-0.5</td>\n",
       "      <td>1</td>\n",
       "      <td>0</td>\n",
       "      <td>1</td>\n",
       "      <td>51.2</td>\n",
       "      <td>1</td>\n",
       "    </tr>\n",
       "    <tr>\n",
       "      <th>4</th>\n",
       "      <td>2000</td>\n",
       "      <td>1.1</td>\n",
       "      <td>8.0</td>\n",
       "      <td>19.5</td>\n",
       "      <td>0</td>\n",
       "      <td>1</td>\n",
       "      <td>1</td>\n",
       "      <td>50.3</td>\n",
       "      <td>0</td>\n",
       "    </tr>\n",
       "    <tr>\n",
       "      <th>5</th>\n",
       "      <td>1996</td>\n",
       "      <td>2.8</td>\n",
       "      <td>7.1</td>\n",
       "      <td>15.5</td>\n",
       "      <td>1</td>\n",
       "      <td>0</td>\n",
       "      <td>1</td>\n",
       "      <td>54.7</td>\n",
       "      <td>1</td>\n",
       "    </tr>\n",
       "    <tr>\n",
       "      <th>6</th>\n",
       "      <td>1992</td>\n",
       "      <td>4.5</td>\n",
       "      <td>4.3</td>\n",
       "      <td>-18.0</td>\n",
       "      <td>1</td>\n",
       "      <td>1</td>\n",
       "      <td>0</td>\n",
       "      <td>46.5</td>\n",
       "      <td>0</td>\n",
       "    </tr>\n",
       "    <tr>\n",
       "      <th>7</th>\n",
       "      <td>1988</td>\n",
       "      <td>2.1</td>\n",
       "      <td>5.2</td>\n",
       "      <td>10.0</td>\n",
       "      <td>0</td>\n",
       "      <td>1</td>\n",
       "      <td>0</td>\n",
       "      <td>53.9</td>\n",
       "      <td>1</td>\n",
       "    </tr>\n",
       "  </tbody>\n",
       "</table>\n",
       "</div>"
      ],
      "text/plain": [
       "   Year  Q1GDP  Q2GDP   JNA  IP1  I2T  P  INCVS  Incumbent Party Win\n",
       "3  2004    2.7    2.6  -0.5    1    0  1   51.2                    1\n",
       "4  2000    1.1    8.0  19.5    0    1  1   50.3                    0\n",
       "5  1996    2.8    7.1  15.5    1    0  1   54.7                    1\n",
       "6  1992    4.5    4.3 -18.0    1    1  0   46.5                    0\n",
       "7  1988    2.1    5.2  10.0    0    1  0   53.9                    1"
      ]
     },
     "execution_count": 6,
     "metadata": {},
     "output_type": "execute_result"
    }
   ],
   "source": [
    "TFC2008_df= TFC_df[3:18]\n",
    "TFC2008_df.head()"
   ]
  },
  {
   "cell_type": "code",
   "execution_count": 7,
   "metadata": {},
   "outputs": [
    {
     "data": {
      "text/html": [
       "<div>\n",
       "<style scoped>\n",
       "    .dataframe tbody tr th:only-of-type {\n",
       "        vertical-align: middle;\n",
       "    }\n",
       "\n",
       "    .dataframe tbody tr th {\n",
       "        vertical-align: top;\n",
       "    }\n",
       "\n",
       "    .dataframe thead th {\n",
       "        text-align: right;\n",
       "    }\n",
       "</style>\n",
       "<table border=\"1\" class=\"dataframe\">\n",
       "  <thead>\n",
       "    <tr style=\"text-align: right;\">\n",
       "      <th></th>\n",
       "      <th>Year</th>\n",
       "      <th>Q1GDP</th>\n",
       "      <th>Q2GDP</th>\n",
       "      <th>JNA</th>\n",
       "      <th>IP1</th>\n",
       "      <th>I2T</th>\n",
       "      <th>P</th>\n",
       "      <th>INCVS</th>\n",
       "      <th>Incumbent Party Win</th>\n",
       "    </tr>\n",
       "  </thead>\n",
       "  <tbody>\n",
       "    <tr>\n",
       "      <th>2</th>\n",
       "      <td>2008</td>\n",
       "      <td>-1.8</td>\n",
       "      <td>3.3</td>\n",
       "      <td>-30.0</td>\n",
       "      <td>0</td>\n",
       "      <td>1</td>\n",
       "      <td>-1</td>\n",
       "      <td>46.3</td>\n",
       "      <td>0</td>\n",
       "    </tr>\n",
       "    <tr>\n",
       "      <th>3</th>\n",
       "      <td>2004</td>\n",
       "      <td>2.7</td>\n",
       "      <td>2.6</td>\n",
       "      <td>-0.5</td>\n",
       "      <td>1</td>\n",
       "      <td>0</td>\n",
       "      <td>1</td>\n",
       "      <td>51.2</td>\n",
       "      <td>1</td>\n",
       "    </tr>\n",
       "    <tr>\n",
       "      <th>4</th>\n",
       "      <td>2000</td>\n",
       "      <td>1.1</td>\n",
       "      <td>8.0</td>\n",
       "      <td>19.5</td>\n",
       "      <td>0</td>\n",
       "      <td>1</td>\n",
       "      <td>1</td>\n",
       "      <td>50.3</td>\n",
       "      <td>0</td>\n",
       "    </tr>\n",
       "    <tr>\n",
       "      <th>5</th>\n",
       "      <td>1996</td>\n",
       "      <td>2.8</td>\n",
       "      <td>7.1</td>\n",
       "      <td>15.5</td>\n",
       "      <td>1</td>\n",
       "      <td>0</td>\n",
       "      <td>1</td>\n",
       "      <td>54.7</td>\n",
       "      <td>1</td>\n",
       "    </tr>\n",
       "    <tr>\n",
       "      <th>6</th>\n",
       "      <td>1992</td>\n",
       "      <td>4.5</td>\n",
       "      <td>4.3</td>\n",
       "      <td>-18.0</td>\n",
       "      <td>1</td>\n",
       "      <td>1</td>\n",
       "      <td>0</td>\n",
       "      <td>46.5</td>\n",
       "      <td>0</td>\n",
       "    </tr>\n",
       "  </tbody>\n",
       "</table>\n",
       "</div>"
      ],
      "text/plain": [
       "   Year  Q1GDP  Q2GDP   JNA  IP1  I2T  P  INCVS  Incumbent Party Win\n",
       "2  2008   -1.8    3.3 -30.0    0    1 -1   46.3                    0\n",
       "3  2004    2.7    2.6  -0.5    1    0  1   51.2                    1\n",
       "4  2000    1.1    8.0  19.5    0    1  1   50.3                    0\n",
       "5  1996    2.8    7.1  15.5    1    0  1   54.7                    1\n",
       "6  1992    4.5    4.3 -18.0    1    1  0   46.5                    0"
      ]
     },
     "execution_count": 7,
     "metadata": {},
     "output_type": "execute_result"
    }
   ],
   "source": [
    "TFC2012_df= TFC_df[2:18]\n",
    "TFC2012_df.head()"
   ]
  },
  {
   "cell_type": "code",
   "execution_count": 8,
   "metadata": {},
   "outputs": [
    {
     "data": {
      "text/html": [
       "<div>\n",
       "<style scoped>\n",
       "    .dataframe tbody tr th:only-of-type {\n",
       "        vertical-align: middle;\n",
       "    }\n",
       "\n",
       "    .dataframe tbody tr th {\n",
       "        vertical-align: top;\n",
       "    }\n",
       "\n",
       "    .dataframe thead th {\n",
       "        text-align: right;\n",
       "    }\n",
       "</style>\n",
       "<table border=\"1\" class=\"dataframe\">\n",
       "  <thead>\n",
       "    <tr style=\"text-align: right;\">\n",
       "      <th></th>\n",
       "      <th>Year</th>\n",
       "      <th>Q1GDP</th>\n",
       "      <th>Q2GDP</th>\n",
       "      <th>JNA</th>\n",
       "      <th>IP1</th>\n",
       "      <th>I2T</th>\n",
       "      <th>P</th>\n",
       "      <th>INCVS</th>\n",
       "      <th>Incumbent Party Win</th>\n",
       "    </tr>\n",
       "  </thead>\n",
       "  <tbody>\n",
       "    <tr>\n",
       "      <th>1</th>\n",
       "      <td>2012</td>\n",
       "      <td>2.0</td>\n",
       "      <td>1.3</td>\n",
       "      <td>-0.8</td>\n",
       "      <td>1</td>\n",
       "      <td>0</td>\n",
       "      <td>1</td>\n",
       "      <td>52.0</td>\n",
       "      <td>1</td>\n",
       "    </tr>\n",
       "    <tr>\n",
       "      <th>2</th>\n",
       "      <td>2008</td>\n",
       "      <td>-1.8</td>\n",
       "      <td>3.3</td>\n",
       "      <td>-30.0</td>\n",
       "      <td>0</td>\n",
       "      <td>1</td>\n",
       "      <td>-1</td>\n",
       "      <td>46.3</td>\n",
       "      <td>0</td>\n",
       "    </tr>\n",
       "    <tr>\n",
       "      <th>3</th>\n",
       "      <td>2004</td>\n",
       "      <td>2.7</td>\n",
       "      <td>2.6</td>\n",
       "      <td>-0.5</td>\n",
       "      <td>1</td>\n",
       "      <td>0</td>\n",
       "      <td>1</td>\n",
       "      <td>51.2</td>\n",
       "      <td>1</td>\n",
       "    </tr>\n",
       "    <tr>\n",
       "      <th>4</th>\n",
       "      <td>2000</td>\n",
       "      <td>1.1</td>\n",
       "      <td>8.0</td>\n",
       "      <td>19.5</td>\n",
       "      <td>0</td>\n",
       "      <td>1</td>\n",
       "      <td>1</td>\n",
       "      <td>50.3</td>\n",
       "      <td>0</td>\n",
       "    </tr>\n",
       "    <tr>\n",
       "      <th>5</th>\n",
       "      <td>1996</td>\n",
       "      <td>2.8</td>\n",
       "      <td>7.1</td>\n",
       "      <td>15.5</td>\n",
       "      <td>1</td>\n",
       "      <td>0</td>\n",
       "      <td>1</td>\n",
       "      <td>54.7</td>\n",
       "      <td>1</td>\n",
       "    </tr>\n",
       "  </tbody>\n",
       "</table>\n",
       "</div>"
      ],
      "text/plain": [
       "   Year  Q1GDP  Q2GDP   JNA  IP1  I2T  P  INCVS  Incumbent Party Win\n",
       "1  2012    2.0    1.3  -0.8    1    0  1   52.0                    1\n",
       "2  2008   -1.8    3.3 -30.0    0    1 -1   46.3                    0\n",
       "3  2004    2.7    2.6  -0.5    1    0  1   51.2                    1\n",
       "4  2000    1.1    8.0  19.5    0    1  1   50.3                    0\n",
       "5  1996    2.8    7.1  15.5    1    0  1   54.7                    1"
      ]
     },
     "execution_count": 8,
     "metadata": {},
     "output_type": "execute_result"
    }
   ],
   "source": [
    "TFC2016_df= TFC_df[1:18]\n",
    "TFC2016_df.head()"
   ]
  },
  {
   "cell_type": "code",
   "execution_count": 9,
   "metadata": {},
   "outputs": [
    {
     "data": {
      "text/html": [
       "<div>\n",
       "<style scoped>\n",
       "    .dataframe tbody tr th:only-of-type {\n",
       "        vertical-align: middle;\n",
       "    }\n",
       "\n",
       "    .dataframe tbody tr th {\n",
       "        vertical-align: top;\n",
       "    }\n",
       "\n",
       "    .dataframe thead th {\n",
       "        text-align: right;\n",
       "    }\n",
       "</style>\n",
       "<table border=\"1\" class=\"dataframe\">\n",
       "  <thead>\n",
       "    <tr style=\"text-align: right;\">\n",
       "      <th></th>\n",
       "      <th>Year</th>\n",
       "      <th>Q1GDP</th>\n",
       "      <th>Q2GDP</th>\n",
       "      <th>JNA</th>\n",
       "      <th>IP1</th>\n",
       "      <th>I2T</th>\n",
       "      <th>P</th>\n",
       "      <th>INCVS</th>\n",
       "      <th>Incumbent Party Win</th>\n",
       "    </tr>\n",
       "  </thead>\n",
       "  <tbody>\n",
       "    <tr>\n",
       "      <th>0</th>\n",
       "      <td>2016</td>\n",
       "      <td>NaN</td>\n",
       "      <td>1.2</td>\n",
       "      <td>6.0</td>\n",
       "      <td>0</td>\n",
       "      <td>1</td>\n",
       "      <td>1</td>\n",
       "      <td>51.1</td>\n",
       "      <td>0</td>\n",
       "    </tr>\n",
       "    <tr>\n",
       "      <th>1</th>\n",
       "      <td>2012</td>\n",
       "      <td>2.0</td>\n",
       "      <td>1.3</td>\n",
       "      <td>-0.8</td>\n",
       "      <td>1</td>\n",
       "      <td>0</td>\n",
       "      <td>1</td>\n",
       "      <td>52.0</td>\n",
       "      <td>1</td>\n",
       "    </tr>\n",
       "    <tr>\n",
       "      <th>2</th>\n",
       "      <td>2008</td>\n",
       "      <td>-1.8</td>\n",
       "      <td>3.3</td>\n",
       "      <td>-30.0</td>\n",
       "      <td>0</td>\n",
       "      <td>1</td>\n",
       "      <td>-1</td>\n",
       "      <td>46.3</td>\n",
       "      <td>0</td>\n",
       "    </tr>\n",
       "    <tr>\n",
       "      <th>3</th>\n",
       "      <td>2004</td>\n",
       "      <td>2.7</td>\n",
       "      <td>2.6</td>\n",
       "      <td>-0.5</td>\n",
       "      <td>1</td>\n",
       "      <td>0</td>\n",
       "      <td>1</td>\n",
       "      <td>51.2</td>\n",
       "      <td>1</td>\n",
       "    </tr>\n",
       "    <tr>\n",
       "      <th>4</th>\n",
       "      <td>2000</td>\n",
       "      <td>1.1</td>\n",
       "      <td>8.0</td>\n",
       "      <td>19.5</td>\n",
       "      <td>0</td>\n",
       "      <td>1</td>\n",
       "      <td>1</td>\n",
       "      <td>50.3</td>\n",
       "      <td>0</td>\n",
       "    </tr>\n",
       "  </tbody>\n",
       "</table>\n",
       "</div>"
      ],
      "text/plain": [
       "   Year  Q1GDP  Q2GDP   JNA  IP1  I2T  P  INCVS  Incumbent Party Win\n",
       "0  2016    NaN    1.2   6.0    0    1  1   51.1                    0\n",
       "1  2012    2.0    1.3  -0.8    1    0  1   52.0                    1\n",
       "2  2008   -1.8    3.3 -30.0    0    1 -1   46.3                    0\n",
       "3  2004    2.7    2.6  -0.5    1    0  1   51.2                    1\n",
       "4  2000    1.1    8.0  19.5    0    1  1   50.3                    0"
      ]
     },
     "execution_count": 9,
     "metadata": {},
     "output_type": "execute_result"
    }
   ],
   "source": [
    "TFC2020_df= TFC_df[0:18]\n",
    "TFC2020_df.head()"
   ]
  },
  {
   "cell_type": "markdown",
   "metadata": {},
   "source": [
    "### Generate Regression Models"
   ]
  },
  {
   "cell_type": "code",
   "execution_count": 10,
   "metadata": {},
   "outputs": [],
   "source": [
    "import statsmodels.api as sm\n",
    "import matplotlib.pyplot as plt\n",
    "from statsmodels.sandbox.regression.predstd import wls_prediction_std"
   ]
  },
  {
   "cell_type": "markdown",
   "metadata": {},
   "source": [
    "## 2012 Estimates"
   ]
  },
  {
   "cell_type": "code",
   "execution_count": 15,
   "metadata": {},
   "outputs": [],
   "source": [
    "y = TFC2012_df[\"INCVS\"]\n",
    "X = TFC2012_df[['Q2GDP','JNA','I2T']]\n",
    "X = sm.add_constant(X)"
   ]
  },
  {
   "cell_type": "code",
   "execution_count": 16,
   "metadata": {},
   "outputs": [
    {
     "name": "stdout",
     "output_type": "stream",
     "text": [
      "                            OLS Regression Results                            \n",
      "==============================================================================\n",
      "Dep. Variable:                  INCVS   R-squared:                       0.912\n",
      "Model:                            OLS   Adj. R-squared:                  0.890\n",
      "Method:                 Least Squares   F-statistic:                     41.39\n",
      "Date:                Mon, 21 Sep 2020   Prob (F-statistic):           1.32e-06\n",
      "Time:                        08:43:10   Log-Likelihood:                -30.390\n",
      "No. Observations:                  16   AIC:                             68.78\n",
      "Df Residuals:                      12   BIC:                             71.87\n",
      "Df Model:                           3                                         \n",
      "Covariance Type:            nonrobust                                         \n",
      "==============================================================================\n",
      "                 coef    std err          t      P>|t|      [0.025      0.975]\n",
      "------------------------------------------------------------------------------\n",
      "const         51.2753      0.881     58.179      0.000      49.355      53.196\n",
      "Q2GDP          0.5864      0.116      5.040      0.000       0.333       0.840\n",
      "JNA            0.1056      0.021      5.044      0.000       0.060       0.151\n",
      "I2T           -4.3585      1.067     -4.085      0.002      -6.683      -2.034\n",
      "==============================================================================\n",
      "Omnibus:                        0.223   Durbin-Watson:                   1.258\n",
      "Prob(Omnibus):                  0.895   Jarque-Bera (JB):                0.316\n",
      "Skew:                          -0.228   Prob(JB):                        0.854\n",
      "Kurtosis:                       2.485   Cond. No.                         75.7\n",
      "==============================================================================\n",
      "\n",
      "Warnings:\n",
      "[1] Standard Errors assume that the covariance matrix of the errors is correctly specified.\n"
     ]
    },
    {
     "name": "stderr",
     "output_type": "stream",
     "text": [
      "C:\\Users\\Chad Work Computer\\anaconda\\lib\\site-packages\\scipy\\stats\\stats.py:1603: UserWarning: kurtosistest only valid for n>=20 ... continuing anyway, n=16\n",
      "  warnings.warn(\"kurtosistest only valid for n>=20 ... continuing \"\n"
     ]
    }
   ],
   "source": [
    "model12 = sm.OLS(y, X)\n",
    "results12 = model12.fit()\n",
    "print(results12.summary())"
   ]
  },
  {
   "cell_type": "markdown",
   "metadata": {},
   "source": [
    "### 2012 Regression Estimates Match Published Equation -  Spot On\n",
    "#### Incumbent vote share = 51.5 + 0.6 (Q2 growth) + 0.1 (Net approval) – 4.3 (Two+ terms). (LINZER)\n"
   ]
  },
  {
   "cell_type": "code",
   "execution_count": 17,
   "metadata": {},
   "outputs": [],
   "source": [
    "#2012 Variables \n",
    "Q2GDP = 1.3\n",
    "JNA = -.08\n",
    "I2T = 0\n",
    "P = 1"
   ]
  },
  {
   "cell_type": "code",
   "execution_count": 18,
   "metadata": {},
   "outputs": [
    {
     "data": {
      "text/plain": [
       "52.24538"
      ]
     },
     "execution_count": 18,
     "metadata": {},
     "output_type": "execute_result"
    }
   ],
   "source": [
    "IVS = 51.5 + 0.5794*Q2GDP + 0.098*JNA -4.3201*I2T\n",
    "IVS"
   ]
  },
  {
   "cell_type": "markdown",
   "metadata": {},
   "source": [
    "## 2016 Estimates"
   ]
  },
  {
   "cell_type": "code",
   "execution_count": 37,
   "metadata": {},
   "outputs": [],
   "source": [
    "y = TFC2016_df[\"INCVS\"]\n",
    "X = TFC2016_df[['Q2GDP','JNA','I2T']]\n",
    "X = sm.add_constant(X)"
   ]
  },
  {
   "cell_type": "code",
   "execution_count": 38,
   "metadata": {},
   "outputs": [
    {
     "name": "stdout",
     "output_type": "stream",
     "text": [
      "                            OLS Regression Results                            \n",
      "==============================================================================\n",
      "Dep. Variable:                  INCVS   R-squared:                       0.912\n",
      "Model:                            OLS   Adj. R-squared:                  0.892\n",
      "Method:                 Least Squares   F-statistic:                     44.84\n",
      "Date:                Mon, 21 Sep 2020   Prob (F-statistic):           4.06e-07\n",
      "Time:                        08:51:08   Log-Likelihood:                -31.774\n",
      "No. Observations:                  17   AIC:                             71.55\n",
      "Df Residuals:                      13   BIC:                             74.88\n",
      "Df Model:                           3                                         \n",
      "Covariance Type:            nonrobust                                         \n",
      "==============================================================================\n",
      "                 coef    std err          t      P>|t|      [0.025      0.975]\n",
      "------------------------------------------------------------------------------\n",
      "const         51.2835      0.773     66.324      0.000      49.613      52.954\n",
      "Q2GDP          0.5862      0.112      5.257      0.000       0.345       0.827\n",
      "JNA            0.1056      0.020      5.340      0.000       0.063       0.148\n",
      "I2T           -4.3661      0.974     -4.482      0.001      -6.470      -2.262\n",
      "==============================================================================\n",
      "Omnibus:                        0.288   Durbin-Watson:                   1.266\n",
      "Prob(Omnibus):                  0.866   Jarque-Bera (JB):                0.252\n",
      "Skew:                          -0.237   Prob(JB):                        0.882\n",
      "Kurtosis:                       2.639   Cond. No.                         70.1\n",
      "==============================================================================\n",
      "\n",
      "Warnings:\n",
      "[1] Standard Errors assume that the covariance matrix of the errors is correctly specified.\n"
     ]
    },
    {
     "name": "stderr",
     "output_type": "stream",
     "text": [
      "C:\\Users\\Chad Work Computer\\anaconda\\lib\\site-packages\\scipy\\stats\\stats.py:1603: UserWarning: kurtosistest only valid for n>=20 ... continuing anyway, n=17\n",
      "  warnings.warn(\"kurtosistest only valid for n>=20 ... continuing \"\n"
     ]
    }
   ],
   "source": [
    "model16 = sm.OLS(y, X)\n",
    "results16 = model16.fit()\n",
    "print(results16.summary())"
   ]
  },
  {
   "cell_type": "code",
   "execution_count": 39,
   "metadata": {},
   "outputs": [],
   "source": [
    "#2016 Variables \n",
    "Q2GDP = 1.2\n",
    "JNA = 6\n",
    "I2T = 1\n",
    "P = 1"
   ]
  },
  {
   "cell_type": "code",
   "execution_count": 40,
   "metadata": {},
   "outputs": [
    {
     "data": {
      "text/plain": [
       "48.425580000000004"
      ]
     },
     "execution_count": 40,
     "metadata": {},
     "output_type": "execute_result"
    }
   ],
   "source": [
    "### Without Polarization Variable Generted Estimates\n",
    "IVS = 51.44 + 0.5799*Q2GDP + 0.098*JNA -4.2983*I2T\n",
    "IVS\n"
   ]
  },
  {
   "cell_type": "markdown",
   "metadata": {},
   "source": [
    "### 2016 1 Term Variable Equation"
   ]
  },
  {
   "cell_type": "markdown",
   "metadata": {},
   "source": [
    "#### Published Estimates\n",
    "http://centerforpolitics.org/crystalball/articles/forecasting-the-2016-presidential-election-will-time-for-change-mean-time-for-trump/\n",
    "\n",
    "IVS = 47.26 + 0.543*Q2GDP + 0.108*JNA +4.313*IP1\n"
   ]
  },
  {
   "cell_type": "code",
   "execution_count": 27,
   "metadata": {},
   "outputs": [],
   "source": [
    "y = TFC2016_df[\"INCVS\"]\n",
    "X = TFC2016_df[['Q2GDP','JNA','IP1']]\n",
    "X = sm.add_constant(X)"
   ]
  },
  {
   "cell_type": "code",
   "execution_count": 28,
   "metadata": {},
   "outputs": [
    {
     "name": "stdout",
     "output_type": "stream",
     "text": [
      "                            OLS Regression Results                            \n",
      "==============================================================================\n",
      "Dep. Variable:                  INCVS   R-squared:                       0.872\n",
      "Model:                            OLS   Adj. R-squared:                  0.843\n",
      "Method:                 Least Squares   F-statistic:                     29.55\n",
      "Date:                Mon, 21 Sep 2020   Prob (F-statistic):           4.48e-06\n",
      "Time:                        08:43:26   Log-Likelihood:                -34.940\n",
      "No. Observations:                  17   AIC:                             77.88\n",
      "Df Residuals:                      13   BIC:                             81.21\n",
      "Df Model:                           3                                         \n",
      "Covariance Type:            nonrobust                                         \n",
      "==============================================================================\n",
      "                 coef    std err          t      P>|t|      [0.025      0.975]\n",
      "------------------------------------------------------------------------------\n",
      "const         47.1376      0.938     50.230      0.000      45.110      49.165\n",
      "Q2GDP          0.4881      0.131      3.714      0.003       0.204       0.772\n",
      "JNA            0.1298      0.022      5.933      0.000       0.083       0.177\n",
      "IP1            3.4187      1.092      3.130      0.008       1.059       5.778\n",
      "==============================================================================\n",
      "Omnibus:                        0.158   Durbin-Watson:                   1.739\n",
      "Prob(Omnibus):                  0.924   Jarque-Bera (JB):                0.250\n",
      "Skew:                          -0.187   Prob(JB):                        0.882\n",
      "Kurtosis:                       2.538   Cond. No.                         67.3\n",
      "==============================================================================\n",
      "\n",
      "Warnings:\n",
      "[1] Standard Errors assume that the covariance matrix of the errors is correctly specified.\n"
     ]
    }
   ],
   "source": [
    "model16 = sm.OLS(y, X)\n",
    "results16 = model16.fit()\n",
    "print(results16.summary())"
   ]
  },
  {
   "cell_type": "code",
   "execution_count": null,
   "metadata": {},
   "outputs": [],
   "source": []
  },
  {
   "cell_type": "markdown",
   "metadata": {},
   "source": [
    "#### 2020 Estimates Based on Incumbent Plus 2 Terms Version of the Time for Change Model\n"
   ]
  },
  {
   "cell_type": "code",
   "execution_count": 46,
   "metadata": {},
   "outputs": [],
   "source": [
    "y = TFC2020_df[\"INCVS\"]\n",
    "X = TFC2020_df[['Q2GDP','JNA','I2T']]\n",
    "X = sm.add_constant(X)"
   ]
  },
  {
   "cell_type": "code",
   "execution_count": 47,
   "metadata": {},
   "outputs": [
    {
     "name": "stdout",
     "output_type": "stream",
     "text": [
      "                            OLS Regression Results                            \n",
      "==============================================================================\n",
      "Dep. Variable:                  INCVS   R-squared:                       0.897\n",
      "Model:                            OLS   Adj. R-squared:                  0.875\n",
      "Method:                 Least Squares   F-statistic:                     40.80\n",
      "Date:                Mon, 21 Sep 2020   Prob (F-statistic):           3.60e-07\n",
      "Time:                        08:53:21   Log-Likelihood:                -34.517\n",
      "No. Observations:                  18   AIC:                             77.03\n",
      "Df Residuals:                      14   BIC:                             80.60\n",
      "Df Model:                           3                                         \n",
      "Covariance Type:            nonrobust                                         \n",
      "==============================================================================\n",
      "                 coef    std err          t      P>|t|      [0.025      0.975]\n",
      "------------------------------------------------------------------------------\n",
      "const         51.3200      0.804     63.794      0.000      49.595      53.045\n",
      "Q2GDP          0.5546      0.114      4.869      0.000       0.310       0.799\n",
      "JNA            0.1094      0.020      5.366      0.000       0.066       0.153\n",
      "I2T           -3.9945      0.979     -4.079      0.001      -6.095      -1.894\n",
      "==============================================================================\n",
      "Omnibus:                        0.148   Durbin-Watson:                   1.299\n",
      "Prob(Omnibus):                  0.929   Jarque-Bera (JB):                0.309\n",
      "Skew:                          -0.170   Prob(JB):                        0.857\n",
      "Kurtosis:                       2.455   Cond. No.                         69.2\n",
      "==============================================================================\n",
      "\n",
      "Warnings:\n",
      "[1] Standard Errors assume that the covariance matrix of the errors is correctly specified.\n"
     ]
    }
   ],
   "source": [
    "model20 = sm.OLS(y, X)\n",
    "results20 = model20.fit()\n",
    "print(results20.summary())"
   ]
  },
  {
   "cell_type": "code",
   "execution_count": 48,
   "metadata": {},
   "outputs": [],
   "source": [
    "#2020Variables ----- Current Estimate of 2nd Quarter GDP\n",
    "Q2GDP = -20 \n",
    "JNA = -19\n",
    "I2T = 0\n",
    "P = 1"
   ]
  },
  {
   "cell_type": "code",
   "execution_count": 51,
   "metadata": {},
   "outputs": [
    {
     "data": {
      "text/plain": [
       "38.1494"
      ]
     },
     "execution_count": 51,
     "metadata": {},
     "output_type": "execute_result"
    }
   ],
   "source": [
    "### Without Polarization Variable Generted Estimates\n",
    "IVS = 51.32 + 0.5546*Q2GDP + 0.1094*JNA -3.99945*I2T\n",
    "IVS"
   ]
  },
  {
   "cell_type": "code",
   "execution_count": 52,
   "metadata": {},
   "outputs": [
    {
     "name": "stdout",
     "output_type": "stream",
     "text": [
      "Incumbend Vote Share for the 2020 presidential election is predicted to be 38.1494\n"
     ]
    }
   ],
   "source": [
    "print(\"Incumbend Vote Share for the 2020 presidential election is predicted to be \" + str(IVS))"
   ]
  },
  {
   "cell_type": "code",
   "execution_count": null,
   "metadata": {},
   "outputs": [],
   "source": []
  },
  {
   "cell_type": "code",
   "execution_count": null,
   "metadata": {},
   "outputs": [],
   "source": []
  },
  {
   "cell_type": "code",
   "execution_count": null,
   "metadata": {},
   "outputs": [],
   "source": []
  },
  {
   "cell_type": "code",
   "execution_count": null,
   "metadata": {},
   "outputs": [],
   "source": []
  }
 ],
 "metadata": {
  "kernelspec": {
   "display_name": "Python 3",
   "language": "python",
   "name": "python3"
  },
  "language_info": {
   "codemirror_mode": {
    "name": "ipython",
    "version": 3
   },
   "file_extension": ".py",
   "mimetype": "text/x-python",
   "name": "python",
   "nbconvert_exporter": "python",
   "pygments_lexer": "ipython3",
   "version": "3.8.3"
  }
 },
 "nbformat": 4,
 "nbformat_minor": 4
}
